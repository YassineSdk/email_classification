{
 "cells": [
  {
   "cell_type": "markdown",
   "id": "226880d5",
   "metadata": {},
   "source": [
    "## **Email Classifier Spam or Ham**"
   ]
  },
  {
   "cell_type": "code",
   "execution_count": null,
   "id": "ef3bf460",
   "metadata": {},
   "outputs": [],
   "source": [
    "import pandas as pd \n",
    "import seaborn as sns \n",
    "import numpy as np \n",
    "import matplotlib.pyplot as plt "
   ]
  },
  {
   "cell_type": "code",
   "execution_count": 3,
   "id": "8f80a6c7",
   "metadata": {},
   "outputs": [
    {
     "data": {
      "text/html": [
       "<div>\n",
       "<style scoped>\n",
       "    .dataframe tbody tr th:only-of-type {\n",
       "        vertical-align: middle;\n",
       "    }\n",
       "\n",
       "    .dataframe tbody tr th {\n",
       "        vertical-align: top;\n",
       "    }\n",
       "\n",
       "    .dataframe thead th {\n",
       "        text-align: right;\n",
       "    }\n",
       "</style>\n",
       "<table border=\"1\" class=\"dataframe\">\n",
       "  <thead>\n",
       "    <tr style=\"text-align: right;\">\n",
       "      <th></th>\n",
       "      <th>id</th>\n",
       "      <th>email</th>\n",
       "      <th>label</th>\n",
       "    </tr>\n",
       "  </thead>\n",
       "  <tbody>\n",
       "    <tr>\n",
       "      <th>0</th>\n",
       "      <td>2685</td>\n",
       "      <td>From: support@legitcompany.com\\nSubject: Regar...</td>\n",
       "      <td>ham</td>\n",
       "    </tr>\n",
       "    <tr>\n",
       "      <th>1</th>\n",
       "      <td>5857</td>\n",
       "      <td>From: noreply@softwareupdates.com\\nSubject: We...</td>\n",
       "      <td>ham</td>\n",
       "    </tr>\n",
       "    <tr>\n",
       "      <th>2</th>\n",
       "      <td>2399</td>\n",
       "      <td>From: noreply@softwareupdates.com\\nSubject: Im...</td>\n",
       "      <td>ham</td>\n",
       "    </tr>\n",
       "    <tr>\n",
       "      <th>3</th>\n",
       "      <td>3244</td>\n",
       "      <td>From: info@customerservice.co\\nSubject: Team S...</td>\n",
       "      <td>ham</td>\n",
       "    </tr>\n",
       "    <tr>\n",
       "      <th>4</th>\n",
       "      <td>2844</td>\n",
       "      <td>From: info@customerservice.co\\nSubject: Team S...</td>\n",
       "      <td>ham</td>\n",
       "    </tr>\n",
       "  </tbody>\n",
       "</table>\n",
       "</div>"
      ],
      "text/plain": [
       "     id                                              email label\n",
       "0  2685  From: support@legitcompany.com\\nSubject: Regar...   ham\n",
       "1  5857  From: noreply@softwareupdates.com\\nSubject: We...   ham\n",
       "2  2399  From: noreply@softwareupdates.com\\nSubject: Im...   ham\n",
       "3  3244  From: info@customerservice.co\\nSubject: Team S...   ham\n",
       "4  2844  From: info@customerservice.co\\nSubject: Team S...   ham"
      ]
     },
     "execution_count": 3,
     "metadata": {},
     "output_type": "execute_result"
    }
   ],
   "source": [
    "df = pd.read_csv('email_classification_dataset.csv')\n",
    "df.head()"
   ]
  },
  {
   "cell_type": "code",
   "execution_count": 12,
   "id": "9d1ae941",
   "metadata": {},
   "outputs": [
    {
     "data": {
      "text/plain": [
       "array(['ham', 'spam'], dtype=object)"
      ]
     },
     "execution_count": 12,
     "metadata": {},
     "output_type": "execute_result"
    }
   ],
   "source": [
    "df['label'].unique()"
   ]
  },
  {
   "cell_type": "code",
   "execution_count": 96,
   "id": "435529f7",
   "metadata": {},
   "outputs": [
    {
     "data": {
      "text/plain": [
       "'From: security@alert-system.ru\\nSubject: Unclaimed Funds Await You\\n\\nDear customer, your account has been temporarily suspended due to unusual activity. Please click here to verify your details: [link]'"
      ]
     },
     "execution_count": 96,
     "metadata": {},
     "output_type": "execute_result"
    }
   ],
   "source": [
    "df.loc[df['label']=='spam','email'][33]"
   ]
  },
  {
   "cell_type": "code",
   "execution_count": 99,
   "id": "3ebd4168",
   "metadata": {},
   "outputs": [
    {
     "data": {
      "text/plain": [
       "\"From: info@customerservice.co\\nSubject: Team Stand-up at 10 AM\\n\\nHere's your weekly dose of news and updates from our community.\\nThis week, we cover [topic 1] and [topic 2]. Read more on our blog: [link to blog]. Sincerely, The Newsletter Team\""
      ]
     },
     "execution_count": 99,
     "metadata": {},
     "output_type": "execute_result"
    }
   ],
   "source": [
    "mail"
   ]
  },
  {
   "cell_type": "code",
   "execution_count": 102,
   "id": "283c8e1a",
   "metadata": {},
   "outputs": [
    {
     "data": {
      "text/plain": [
       "[\"Here's your weekly dose of news and updates from our community.\\nThis week, we cover [topic 1] and [topic 2]. Read more on our blog: [link to blog]. Sincerely, The Newsletter Team\"]"
      ]
     },
     "execution_count": 102,
     "metadata": {},
     "output_type": "execute_result"
    }
   ],
   "source": [
    "pattern_3 = r'\\n\\n([\\s\\S]+)'\n",
    "re.findall(pattern_3,mail)"
   ]
  },
  {
   "cell_type": "code",
   "execution_count": null,
   "id": "82374b84",
   "metadata": {},
   "outputs": [],
   "source": [
    "mail = df[df['label'] =='spam']['email']"
   ]
  },
  {
   "cell_type": "code",
   "execution_count": 25,
   "id": "14434f4d",
   "metadata": {},
   "outputs": [
    {
     "data": {
      "text/plain": [
       "'From: social@media-boost.online\\nSubject: Your Package Is Delayed - Action Required\\n\\nInvest in our revolutionary new platform and earn guaranteed high returns. Learn more: [link]'"
      ]
     },
     "execution_count": 25,
     "metadata": {},
     "output_type": "execute_result"
    }
   ],
   "source": [
    "mail"
   ]
  },
  {
   "cell_type": "code",
   "execution_count": 31,
   "id": "dbf236ed",
   "metadata": {},
   "outputs": [
    {
     "data": {
      "text/plain": [
       "['social@media-boost.online']"
      ]
     },
     "execution_count": 31,
     "metadata": {},
     "output_type": "execute_result"
    }
   ],
   "source": [
    "import re\n",
    "\n",
    "pattern = r'^From:\\s*([\\w\\.-]+@[\\w\\.-]+)'\n",
    "re.findall(pattern, mail)\n"
   ]
  },
  {
   "cell_type": "code",
   "execution_count": 29,
   "id": "907f553d",
   "metadata": {},
   "outputs": [
    {
     "name": "stdout",
     "output_type": "stream",
     "text": [
      "['social@media-boost.online']\n"
     ]
    }
   ],
   "source": [
    "import re\n",
    "\n",
    "mail = '''From: social@media-boost.online\n",
    "Subject: Your Package Is Delayed - Action Required\n",
    "\n",
    "Invest in our revolutionary new platform and earn guaranteed high returns. Learn more: [link]'''\n",
    "\n",
    "pattern = r'From:\\s*([\\w\\.-]+@[\\w\\.-]+\\.\\w+)'\n",
    "match = re.findall(pattern, mail)\n",
    "\n",
    "print(match)\n"
   ]
  },
  {
   "cell_type": "code",
   "execution_count": 44,
   "id": "93d361eb",
   "metadata": {},
   "outputs": [
    {
     "name": "stdout",
     "output_type": "stream",
     "text": [
      "the sender : ['info@customerservice.co']\n",
      "the subject : ['Team Stand-up at 10 AM']\n"
     ]
    }
   ],
   "source": [
    "pattern = r'From:\\s*([\\w\\.-]+@[\\w\\.-]+\\.[a-zA-Z]+)'\n",
    "mail = '''From: info@customerservice.co\\nSubject: Team Stand-up at 10 AM\\n\\nHere's your weekly dose of news and updates from our community.\n",
    "This week, we cover [topic 1] and [topic 2]. Read more on our blog: [link to blog]. Sincerely, The Newsletter Team'''\n",
    "\n",
    "print('the sender :',re.findall(pattern,mail))\n",
    "pattern_2 = r'\\nSubject: \\s*(.+)\\n'\n",
    "print('the subject :',re.findall(pattern_2,mail))\n",
    "\n"
   ]
  },
  {
   "cell_type": "code",
   "execution_count": 52,
   "id": "46fe2d72",
   "metadata": {},
   "outputs": [],
   "source": [
    "df['sender'] = df['email'].str.extract(pattern)\n",
    "df['object'] = df['email'].str.extract(pattern_2)"
   ]
  },
  {
   "cell_type": "code",
   "execution_count": 49,
   "id": "2708b025",
   "metadata": {},
   "outputs": [
    {
     "data": {
      "text/html": [
       "<div>\n",
       "<style scoped>\n",
       "    .dataframe tbody tr th:only-of-type {\n",
       "        vertical-align: middle;\n",
       "    }\n",
       "\n",
       "    .dataframe tbody tr th {\n",
       "        vertical-align: top;\n",
       "    }\n",
       "\n",
       "    .dataframe thead th {\n",
       "        text-align: right;\n",
       "    }\n",
       "</style>\n",
       "<table border=\"1\" class=\"dataframe\">\n",
       "  <thead>\n",
       "    <tr style=\"text-align: right;\">\n",
       "      <th></th>\n",
       "      <th>id</th>\n",
       "      <th>email</th>\n",
       "      <th>label</th>\n",
       "      <th>sender</th>\n",
       "      <th>object</th>\n",
       "    </tr>\n",
       "  </thead>\n",
       "  <tbody>\n",
       "    <tr>\n",
       "      <th>0</th>\n",
       "      <td>2685</td>\n",
       "      <td>From: support@legitcompany.com\\nSubject: Regar...</td>\n",
       "      <td>ham</td>\n",
       "      <td>support@legitcompany.com</td>\n",
       "      <td>Regarding Your Recent Inquiry</td>\n",
       "    </tr>\n",
       "    <tr>\n",
       "      <th>1</th>\n",
       "      <td>5857</td>\n",
       "      <td>From: noreply@softwareupdates.com\\nSubject: We...</td>\n",
       "      <td>ham</td>\n",
       "      <td>noreply@softwareupdates.com</td>\n",
       "      <td>Weekly Newsletter - Latest Updates</td>\n",
       "    </tr>\n",
       "    <tr>\n",
       "      <th>2</th>\n",
       "      <td>2399</td>\n",
       "      <td>From: noreply@softwareupdates.com\\nSubject: Im...</td>\n",
       "      <td>ham</td>\n",
       "      <td>noreply@softwareupdates.com</td>\n",
       "      <td>Important: Software Update Notification</td>\n",
       "    </tr>\n",
       "    <tr>\n",
       "      <th>3</th>\n",
       "      <td>3244</td>\n",
       "      <td>From: info@customerservice.co\\nSubject: Team S...</td>\n",
       "      <td>ham</td>\n",
       "      <td>info@customerservice.co</td>\n",
       "      <td>Team Stand-up at 10 AM</td>\n",
       "    </tr>\n",
       "    <tr>\n",
       "      <th>4</th>\n",
       "      <td>2844</td>\n",
       "      <td>From: info@customerservice.co\\nSubject: Team S...</td>\n",
       "      <td>ham</td>\n",
       "      <td>info@customerservice.co</td>\n",
       "      <td>Team Stand-up at 10 AM</td>\n",
       "    </tr>\n",
       "    <tr>\n",
       "      <th>...</th>\n",
       "      <td>...</td>\n",
       "      <td>...</td>\n",
       "      <td>...</td>\n",
       "      <td>...</td>\n",
       "      <td>...</td>\n",
       "    </tr>\n",
       "    <tr>\n",
       "      <th>9995</th>\n",
       "      <td>6397</td>\n",
       "      <td>From: noreply@softwareupdates.com\\nSubject: Ca...</td>\n",
       "      <td>ham</td>\n",
       "      <td>noreply@softwareupdates.com</td>\n",
       "      <td>Catching Up - How are you?</td>\n",
       "    </tr>\n",
       "    <tr>\n",
       "      <th>9996</th>\n",
       "      <td>7470</td>\n",
       "      <td>From: family@homemail.net\\nSubject: Weekly New...</td>\n",
       "      <td>ham</td>\n",
       "      <td>family@homemail.net</td>\n",
       "      <td>Weekly Newsletter - Latest Updates</td>\n",
       "    </tr>\n",
       "    <tr>\n",
       "      <th>9997</th>\n",
       "      <td>9273</td>\n",
       "      <td>From: team@projectmanagement.com\\nSubject: Fee...</td>\n",
       "      <td>ham</td>\n",
       "      <td>team@projectmanagement.com</td>\n",
       "      <td>Feedback Request: Your Recent Purchase</td>\n",
       "    </tr>\n",
       "    <tr>\n",
       "      <th>9998</th>\n",
       "      <td>3192</td>\n",
       "      <td>From: accounts@billingcorp.com\\nSubject: Photo...</td>\n",
       "      <td>ham</td>\n",
       "      <td>accounts@billingcorp.com</td>\n",
       "      <td>Photos from the Weekend Trip</td>\n",
       "    </tr>\n",
       "    <tr>\n",
       "      <th>9999</th>\n",
       "      <td>979</td>\n",
       "      <td>From: support@secure-login.com\\nSubject: Uncla...</td>\n",
       "      <td>spam</td>\n",
       "      <td>support@secure-login.com</td>\n",
       "      <td>Unclaimed Funds Await You</td>\n",
       "    </tr>\n",
       "  </tbody>\n",
       "</table>\n",
       "<p>10000 rows × 5 columns</p>\n",
       "</div>"
      ],
      "text/plain": [
       "        id                                              email label  \\\n",
       "0     2685  From: support@legitcompany.com\\nSubject: Regar...   ham   \n",
       "1     5857  From: noreply@softwareupdates.com\\nSubject: We...   ham   \n",
       "2     2399  From: noreply@softwareupdates.com\\nSubject: Im...   ham   \n",
       "3     3244  From: info@customerservice.co\\nSubject: Team S...   ham   \n",
       "4     2844  From: info@customerservice.co\\nSubject: Team S...   ham   \n",
       "...    ...                                                ...   ...   \n",
       "9995  6397  From: noreply@softwareupdates.com\\nSubject: Ca...   ham   \n",
       "9996  7470  From: family@homemail.net\\nSubject: Weekly New...   ham   \n",
       "9997  9273  From: team@projectmanagement.com\\nSubject: Fee...   ham   \n",
       "9998  3192  From: accounts@billingcorp.com\\nSubject: Photo...   ham   \n",
       "9999   979  From: support@secure-login.com\\nSubject: Uncla...  spam   \n",
       "\n",
       "                           sender                                   object  \n",
       "0        support@legitcompany.com            Regarding Your Recent Inquiry  \n",
       "1     noreply@softwareupdates.com       Weekly Newsletter - Latest Updates  \n",
       "2     noreply@softwareupdates.com  Important: Software Update Notification  \n",
       "3         info@customerservice.co                   Team Stand-up at 10 AM  \n",
       "4         info@customerservice.co                   Team Stand-up at 10 AM  \n",
       "...                           ...                                      ...  \n",
       "9995  noreply@softwareupdates.com               Catching Up - How are you?  \n",
       "9996          family@homemail.net       Weekly Newsletter - Latest Updates  \n",
       "9997   team@projectmanagement.com   Feedback Request: Your Recent Purchase  \n",
       "9998     accounts@billingcorp.com             Photos from the Weekend Trip  \n",
       "9999     support@secure-login.com                Unclaimed Funds Await You  \n",
       "\n",
       "[10000 rows x 5 columns]"
      ]
     },
     "execution_count": 49,
     "metadata": {},
     "output_type": "execute_result"
    }
   ],
   "source": [
    "df"
   ]
  },
  {
   "cell_type": "code",
   "execution_count": 60,
   "id": "4f79e0c6",
   "metadata": {},
   "outputs": [
    {
     "data": {
      "text/plain": [
       "sender\n",
       "noreply@softwareupdates.com     915\n",
       "family@homemail.net             881\n",
       "friend@personalmail.net         875\n",
       "newsletter@info.org             867\n",
       "accounts@billingcorp.com        865\n",
       "team@projectmanagement.com      862\n",
       "john.doe@example.com            843\n",
       "survey@retailfeedback.com       812\n",
       "support@legitcompany.com        800\n",
       "info@customerservice.co         780\n",
       "noreply@winner-prize.net        161\n",
       "info@unclaimed-funds.co         161\n",
       "social@media-boost.online       157\n",
       "security@alert-system.ru        155\n",
       "money@easy-cash.top             154\n",
       "invest@global-finance.biz       150\n",
       "deals@best-offers.xyz           147\n",
       "support@secure-login.com        146\n",
       "admin@bank-verify.org           135\n",
       "delivery@package-update.info    134\n",
       "Name: count, dtype: int64"
      ]
     },
     "execution_count": 60,
     "metadata": {},
     "output_type": "execute_result"
    }
   ],
   "source": [
    "df['sender'].value_counts()"
   ]
  },
  {
   "cell_type": "code",
   "execution_count": null,
   "id": "ab43f8a3",
   "metadata": {},
   "outputs": [
    {
     "data": {
      "text/plain": [
       "np.int64(0)"
      ]
     },
     "execution_count": 55,
     "metadata": {},
     "output_type": "execute_result"
    }
   ],
   "source": [
    "df['object'].str.match('').sum()"
   ]
  },
  {
   "cell_type": "code",
   "execution_count": 73,
   "id": "a53b9d2a",
   "metadata": {},
   "outputs": [],
   "source": [
    "df['num_words'] = df['email'].str.split().str.len()"
   ]
  },
  {
   "cell_type": "code",
   "execution_count": 74,
   "id": "d01b2e63",
   "metadata": {},
   "outputs": [
    {
     "data": {
      "text/html": [
       "<div>\n",
       "<style scoped>\n",
       "    .dataframe tbody tr th:only-of-type {\n",
       "        vertical-align: middle;\n",
       "    }\n",
       "\n",
       "    .dataframe tbody tr th {\n",
       "        vertical-align: top;\n",
       "    }\n",
       "\n",
       "    .dataframe thead th {\n",
       "        text-align: right;\n",
       "    }\n",
       "</style>\n",
       "<table border=\"1\" class=\"dataframe\">\n",
       "  <thead>\n",
       "    <tr style=\"text-align: right;\">\n",
       "      <th></th>\n",
       "      <th>id</th>\n",
       "      <th>email</th>\n",
       "      <th>label</th>\n",
       "      <th>sender</th>\n",
       "      <th>object</th>\n",
       "      <th>num_words</th>\n",
       "    </tr>\n",
       "  </thead>\n",
       "  <tbody>\n",
       "    <tr>\n",
       "      <th>0</th>\n",
       "      <td>2685</td>\n",
       "      <td>From: support@legitcompany.com\\nSubject: Regar...</td>\n",
       "      <td>ham</td>\n",
       "      <td>support@legitcompany.com</td>\n",
       "      <td>Regarding Your Recent Inquiry</td>\n",
       "      <td>37</td>\n",
       "    </tr>\n",
       "    <tr>\n",
       "      <th>1</th>\n",
       "      <td>5857</td>\n",
       "      <td>From: noreply@softwareupdates.com\\nSubject: We...</td>\n",
       "      <td>ham</td>\n",
       "      <td>noreply@softwareupdates.com</td>\n",
       "      <td>Weekly Newsletter - Latest Updates</td>\n",
       "      <td>44</td>\n",
       "    </tr>\n",
       "    <tr>\n",
       "      <th>2</th>\n",
       "      <td>2399</td>\n",
       "      <td>From: noreply@softwareupdates.com\\nSubject: Im...</td>\n",
       "      <td>ham</td>\n",
       "      <td>noreply@softwareupdates.com</td>\n",
       "      <td>Important: Software Update Notification</td>\n",
       "      <td>38</td>\n",
       "    </tr>\n",
       "    <tr>\n",
       "      <th>3</th>\n",
       "      <td>3244</td>\n",
       "      <td>From: info@customerservice.co\\nSubject: Team S...</td>\n",
       "      <td>ham</td>\n",
       "      <td>info@customerservice.co</td>\n",
       "      <td>Team Stand-up at 10 AM</td>\n",
       "      <td>44</td>\n",
       "    </tr>\n",
       "    <tr>\n",
       "      <th>4</th>\n",
       "      <td>2844</td>\n",
       "      <td>From: info@customerservice.co\\nSubject: Team S...</td>\n",
       "      <td>ham</td>\n",
       "      <td>info@customerservice.co</td>\n",
       "      <td>Team Stand-up at 10 AM</td>\n",
       "      <td>40</td>\n",
       "    </tr>\n",
       "    <tr>\n",
       "      <th>...</th>\n",
       "      <td>...</td>\n",
       "      <td>...</td>\n",
       "      <td>...</td>\n",
       "      <td>...</td>\n",
       "      <td>...</td>\n",
       "      <td>...</td>\n",
       "    </tr>\n",
       "    <tr>\n",
       "      <th>9995</th>\n",
       "      <td>6397</td>\n",
       "      <td>From: noreply@softwareupdates.com\\nSubject: Ca...</td>\n",
       "      <td>ham</td>\n",
       "      <td>noreply@softwareupdates.com</td>\n",
       "      <td>Catching Up - How are you?</td>\n",
       "      <td>45</td>\n",
       "    </tr>\n",
       "    <tr>\n",
       "      <th>9996</th>\n",
       "      <td>7470</td>\n",
       "      <td>From: family@homemail.net\\nSubject: Weekly New...</td>\n",
       "      <td>ham</td>\n",
       "      <td>family@homemail.net</td>\n",
       "      <td>Weekly Newsletter - Latest Updates</td>\n",
       "      <td>44</td>\n",
       "    </tr>\n",
       "    <tr>\n",
       "      <th>9997</th>\n",
       "      <td>9273</td>\n",
       "      <td>From: team@projectmanagement.com\\nSubject: Fee...</td>\n",
       "      <td>ham</td>\n",
       "      <td>team@projectmanagement.com</td>\n",
       "      <td>Feedback Request: Your Recent Purchase</td>\n",
       "      <td>32</td>\n",
       "    </tr>\n",
       "    <tr>\n",
       "      <th>9998</th>\n",
       "      <td>3192</td>\n",
       "      <td>From: accounts@billingcorp.com\\nSubject: Photo...</td>\n",
       "      <td>ham</td>\n",
       "      <td>accounts@billingcorp.com</td>\n",
       "      <td>Photos from the Weekend Trip</td>\n",
       "      <td>39</td>\n",
       "    </tr>\n",
       "    <tr>\n",
       "      <th>9999</th>\n",
       "      <td>979</td>\n",
       "      <td>From: support@secure-login.com\\nSubject: Uncla...</td>\n",
       "      <td>spam</td>\n",
       "      <td>support@secure-login.com</td>\n",
       "      <td>Unclaimed Funds Await You</td>\n",
       "      <td>24</td>\n",
       "    </tr>\n",
       "  </tbody>\n",
       "</table>\n",
       "<p>10000 rows × 6 columns</p>\n",
       "</div>"
      ],
      "text/plain": [
       "        id                                              email label  \\\n",
       "0     2685  From: support@legitcompany.com\\nSubject: Regar...   ham   \n",
       "1     5857  From: noreply@softwareupdates.com\\nSubject: We...   ham   \n",
       "2     2399  From: noreply@softwareupdates.com\\nSubject: Im...   ham   \n",
       "3     3244  From: info@customerservice.co\\nSubject: Team S...   ham   \n",
       "4     2844  From: info@customerservice.co\\nSubject: Team S...   ham   \n",
       "...    ...                                                ...   ...   \n",
       "9995  6397  From: noreply@softwareupdates.com\\nSubject: Ca...   ham   \n",
       "9996  7470  From: family@homemail.net\\nSubject: Weekly New...   ham   \n",
       "9997  9273  From: team@projectmanagement.com\\nSubject: Fee...   ham   \n",
       "9998  3192  From: accounts@billingcorp.com\\nSubject: Photo...   ham   \n",
       "9999   979  From: support@secure-login.com\\nSubject: Uncla...  spam   \n",
       "\n",
       "                           sender                                   object  \\\n",
       "0        support@legitcompany.com            Regarding Your Recent Inquiry   \n",
       "1     noreply@softwareupdates.com       Weekly Newsletter - Latest Updates   \n",
       "2     noreply@softwareupdates.com  Important: Software Update Notification   \n",
       "3         info@customerservice.co                   Team Stand-up at 10 AM   \n",
       "4         info@customerservice.co                   Team Stand-up at 10 AM   \n",
       "...                           ...                                      ...   \n",
       "9995  noreply@softwareupdates.com               Catching Up - How are you?   \n",
       "9996          family@homemail.net       Weekly Newsletter - Latest Updates   \n",
       "9997   team@projectmanagement.com   Feedback Request: Your Recent Purchase   \n",
       "9998     accounts@billingcorp.com             Photos from the Weekend Trip   \n",
       "9999     support@secure-login.com                Unclaimed Funds Await You   \n",
       "\n",
       "      num_words  \n",
       "0            37  \n",
       "1            44  \n",
       "2            38  \n",
       "3            44  \n",
       "4            40  \n",
       "...         ...  \n",
       "9995         45  \n",
       "9996         44  \n",
       "9997         32  \n",
       "9998         39  \n",
       "9999         24  \n",
       "\n",
       "[10000 rows x 6 columns]"
      ]
     },
     "execution_count": 74,
     "metadata": {},
     "output_type": "execute_result"
    }
   ],
   "source": [
    "df"
   ]
  },
  {
   "cell_type": "code",
   "execution_count": 77,
   "id": "4d541895",
   "metadata": {},
   "outputs": [
    {
     "data": {
      "text/plain": [
       "<Axes: xlabel='num_words', ylabel='Count'>"
      ]
     },
     "execution_count": 77,
     "metadata": {},
     "output_type": "execute_result"
    },
    {
     "data": {
      "image/png": "[encoded data removed]",
      "text/plain": [
       "<Figure size 640x480 with 1 Axes>"
      ]
     },
     "metadata": {},
     "output_type": "display_data"
    }
   ],
   "source": [
    "sns.histplot(x=df['num_words'],hue=df['label'])"
   ]
  }
 ],
 "metadata": {
  "kernelspec": {
   "display_name": "env_1-",
   "language": "python",
   "name": "python3"
  },
  "language_info": {
   "codemirror_mode": {
    "name": "ipython",
    "version": 3
   },
   "file_extension": ".py",
   "mimetype": "text/x-python",
   "name": "python",
   "nbconvert_exporter": "python",
   "pygments_lexer": "ipython3",
   "version": "3.13.3"
  }
 },
 "nbformat": 4,
 "nbformat_minor": 5
}
